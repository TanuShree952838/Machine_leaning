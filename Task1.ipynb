{
  "nbformat": 4,
  "nbformat_minor": 0,
  "metadata": {
    "colab": {
      "name": "Task1.ipynb",
      "provenance": [],
      "authorship_tag": "ABX9TyOf7tIAXmTd05dkUu9a5pHk",
      "include_colab_link": true
    },
    "kernelspec": {
      "name": "python3",
      "display_name": "Python 3"
    },
    "language_info": {
      "name": "python"
    }
  },
  "cells": [
    {
      "cell_type": "markdown",
      "metadata": {
        "id": "view-in-github",
        "colab_type": "text"
      },
      "source": [
        "<a href=\"https://colab.research.google.com/github/TanuShree952838/Machine_leaning/blob/main/Task1.ipynb\" target=\"_parent\"><img src=\"https://colab.research.google.com/assets/colab-badge.svg\" alt=\"Open In Colab\"/></a>"
      ]
    },
    {
      "cell_type": "markdown",
      "metadata": {
        "id": "OTrTOmr7GEus"
      },
      "source": [
        "**Task 1**\n",
        "\n",
        "**NAME : Tanushree Sharma**\n",
        "\n",
        "**REG NO. : GO_STP_928**\n"
      ]
    },
    {
      "cell_type": "markdown",
      "metadata": {
        "id": "YNEPQOLSGToj"
      },
      "source": [
        "1. We are having 3 list like this Colors = [“Yellow”,”Green”,”White”,”Black”] Fruits=\n",
        "[“Apple”,”Papaya”,”Mango”,”Orange”] Animals=[“Tiger”,”Lion”,”Deer”,”Zebra”]\n",
        "i. Write a program that asks user to enter a Color/Fruit/Animal name and it should tell which\n",
        "category belongs to , like its is a fruit or color or Animal."
      ]
    },
    {
      "cell_type": "code",
      "metadata": {
        "colab": {
          "base_uri": "https://localhost:8080/"
        },
        "id": "gGpORHrmGWwS",
        "outputId": "f1111ed0-38bc-4781-81c9-a02fbd97c604"
      },
      "source": [
        "Colors = ['Yellow','Green','White','Black']\n",
        "Fruits=['Apple','Papaya','Mango','Orange']\n",
        "Animals=['Tiger','Lion','Deer','Zebra']\n",
        "name= input(\"Enter the Name :\")\n",
        "if name in Colors:\n",
        " category = \"Colours\"\n",
        "elif name in Fruits:\n",
        " category = \"Fruits\"\n",
        "elif name in Animals:\n",
        " category = \"Animals\" \n",
        "else:\n",
        " category = \"Invalid\"\n",
        "print(f'Category : {category}') "
      ],
      "execution_count": 3,
      "outputs": [
        {
          "output_type": "stream",
          "text": [
            "Enter the Name :Lion\n",
            "Category : Animals\n"
          ],
          "name": "stdout"
        }
      ]
    },
    {
      "cell_type": "markdown",
      "metadata": {
        "id": "bzf1o8A9GpVf"
      },
      "source": [
        "ii. Write a program that asks user to enter two cities and it tells you if they both are in same\n",
        "country or not. For example if I enter yellow and Black, it will print \"Both are colors\" but if I enter\n",
        "yellow and Tiger it should print \"They don't belong to same category\"\n"
      ]
    },
    {
      "cell_type": "code",
      "metadata": {
        "colab": {
          "base_uri": "https://localhost:8080/"
        },
        "id": "rtIU9aTTGsgA",
        "outputId": "1ede80f0-6efa-4fdb-e2df-0b54fc84faf2"
      },
      "source": [
        "x = input()\n",
        "y = input()\n",
        "if x in Colors and y in Colors:\n",
        " category = \"Both are colors\"\n",
        "elif x in Fruits and y in Fruits:\n",
        " category = \"Both are Fruits\" \n",
        "elif x in Aninals and y in Animals:\n",
        " category = \"Both are Animals\"\n",
        "else: \n",
        " category = \"They don't belong to same category\"\n",
        "print(f'Category : {category}') "
      ],
      "execution_count": 6,
      "outputs": [
        {
          "output_type": "stream",
          "text": [
            "Yellow\n",
            "Black\n",
            "Category : Both are colors\n"
          ],
          "name": "stdout"
        }
      ]
    },
    {
      "cell_type": "markdown",
      "metadata": {
        "id": "L6bwPUjEG4mU"
      },
      "source": [
        "2. Write a python program that can tell you if your grade score good or not . Good Score\n",
        "range is 40 to 60.i. Ask user to enter his score. ii. If it is below 40 to 60 range then print that score is low iii. If\n",
        "it is above 60 then print that it is good otherwise print that it is normal"
      ]
    },
    {
      "cell_type": "code",
      "metadata": {
        "colab": {
          "base_uri": "https://localhost:8080/"
        },
        "id": "XlBWSYzfG8UC",
        "outputId": "4fa3c419-c2fe-4052-a887-3cfbc79cd7a7"
      },
      "source": [
        "score = eval(input(\"Enter your score : \"))\n",
        "if score < 40:\n",
        " print(\"low\")\n",
        "elif score > 60:\n",
        " print(\"good\")\n",
        "else:\n",
        " print(\"normal\")"
      ],
      "execution_count": 8,
      "outputs": [
        {
          "output_type": "stream",
          "text": [
            "Enter your score : 80\n",
            "good\n"
          ],
          "name": "stdout"
        }
      ]
    },
    {
      "cell_type": "markdown",
      "metadata": {
        "id": "7kIHQVnzHESu"
      },
      "source": [
        "3.   After appearing in exam 10 times you got this result,\n",
        "\n",
        "result = [\"Pass\",\"Fail\",\"Fail\",\"Pass\",\"Fail\",\"Pass\",\"Pass\",\"Fail\",\"Fail\",\"Fail\"]\n",
        "\n",
        "Using for loop figure out how many times you got Pass"
      ]
    },
    {
      "cell_type": "code",
      "metadata": {
        "colab": {
          "base_uri": "https://localhost:8080/"
        },
        "id": "_Ei6V3d_HNG_",
        "outputId": "515008f3-08d5-4fe4-f575-b2a4abdb6aff"
      },
      "source": [
        "result = ['Pass','Fail','Fail','Pass','Fail','Pass','Pass','Fail','Fail','Fail']\n",
        "i = 0\n",
        "for str in result:\n",
        " if str == 'Pass':\n",
        "   i += 1\n",
        "print(i)"
      ],
      "execution_count": 10,
      "outputs": [
        {
          "output_type": "stream",
          "text": [
            "4\n"
          ],
          "name": "stdout"
        }
      ]
    },
    {
      "cell_type": "markdown",
      "metadata": {
        "id": "_rEOS4Q4Ho5e"
      },
      "source": [
        "4.  Write a program that prints following shape\n",
        " "
      ]
    },
    {
      "cell_type": "code",
      "metadata": {
        "colab": {
          "base_uri": "https://localhost:8080/"
        },
        "id": "Pub7PRWlHvAc",
        "outputId": "3eca2b7d-ca05-400a-ed7b-e5886e38db9e"
      },
      "source": [
        "n = 5\n",
        "for i in range(n):\n",
        "  for j in range(i):\n",
        "   print('* ', end = \"\")\n",
        "  print('') \n",
        "for i in range(n,0,-1):\n",
        " for j in range(i):\n",
        "   print('* ', end = \"\")\n",
        " print('') "
      ],
      "execution_count": 16,
      "outputs": [
        {
          "output_type": "stream",
          "text": [
            "\n",
            "* \n",
            "* * \n",
            "* * * \n",
            "* * * * \n",
            "* * * * * \n",
            "* * * * \n",
            "* * * \n",
            "* * \n",
            "* \n"
          ],
          "name": "stdout"
        }
      ]
    },
    {
      "cell_type": "markdown",
      "metadata": {
        "id": "9_1FtRSeIaGN"
      },
      "source": [
        "5. Lets say you are running a 50 km race. Write a program that, \n",
        "\n",
        "*   Upon completing each 10 km asks you \"are you tired?\" \n",
        "*   If you reply \"yes\" then it should break and print \"you didn't\n",
        "finish the race\"\n",
        "*   If you reply \"no\" then it should continue and ask \"are you tired\" on every km\n",
        "*   If you finish all 50 km then it should print congratulations message\n",
        "\n",
        "\n",
        "\n",
        "\n"
      ]
    },
    {
      "cell_type": "code",
      "metadata": {
        "colab": {
          "base_uri": "https://localhost:8080/"
        },
        "id": "v9aK7x9TJEU2",
        "outputId": "a5ca32a1-2ca2-401f-8082-c83db974691e"
      },
      "source": [
        "for dist in range(1,51):\n",
        "  if dist< 50 and dist%10 == 0:\n",
        "    print(\"are you tired?\")\n",
        "    reply= input(\"yes/no:\")\n",
        "    if reply == \"yes\":\n",
        "      print(\"you didn't finish the race\")\n",
        "      break\n",
        "    elif reply == \"no\":\n",
        "     continue\n",
        "    else:\n",
        "      print(\"Invalid\")\n",
        "  if dist == 50:\n",
        "    print(\"congratulations\")"
      ],
      "execution_count": 26,
      "outputs": [
        {
          "output_type": "stream",
          "text": [
            "are you tired?\n",
            "yes/no:no\n",
            "are you tired?\n",
            "yes/no:yes\n",
            "you didn't finish the race\n"
          ],
          "name": "stdout"
        }
      ]
    },
    {
      "cell_type": "markdown",
      "metadata": {
        "id": "1sjuG8WhKIXv"
      },
      "source": [
        "6. Write a Python program to find those numbers which are divisible by 7 and multiple of 5, between 1500 and 2700 (both included)."
      ]
    },
    {
      "cell_type": "code",
      "metadata": {
        "colab": {
          "base_uri": "https://localhost:8080/"
        },
        "id": "k5X6KNNfKU1E",
        "outputId": "1413c389-afb3-4737-d1e1-7380b6e7c60c"
      },
      "source": [
        "for n in range(1500,2700):\n",
        "  if n % 5==0 and n % 7 ==0:\n",
        "    print(n, end=\" \")\n"
      ],
      "execution_count": 27,
      "outputs": [
        {
          "output_type": "stream",
          "text": [
            "1505 1540 1575 1610 1645 1680 1715 1750 1785 1820 1855 1890 1925 1960 1995 2030 2065 2100 2135 2170 2205 2240 2275 2310 2345 2380 2415 2450 2485 2520 2555 2590 2625 2660 2695 "
          ],
          "name": "stdout"
        }
      ]
    },
    {
      "cell_type": "markdown",
      "metadata": {
        "id": "1pcJMH6RKarq"
      },
      "source": [
        "7. Print square of all numbers between 10 to 20 except even numbers"
      ]
    },
    {
      "cell_type": "code",
      "metadata": {
        "colab": {
          "base_uri": "https://localhost:8080/"
        },
        "id": "lU0haZFRKgeM",
        "outputId": "b3d7616e-73a3-45e5-9115-80b995db4037"
      },
      "source": [
        "for n in range(10,20):\n",
        "  if n % 2==1:\n",
        "    print(n**2, end= \" \")\n"
      ],
      "execution_count": 28,
      "outputs": [
        {
          "output_type": "stream",
          "text": [
            "121 169 225 289 361 "
          ],
          "name": "stdout"
        }
      ]
    },
    {
      "cell_type": "markdown",
      "metadata": {
        "id": "AWVYR8iLKoJu"
      },
      "source": [
        "8. Your Marks for five Test(test1 to test5) looks like this,\n",
        "\n",
        "marks_list = [65, 75, 2100, 95, 83]\n",
        "\n",
        "Write a program that asks you to enter marks and program should tell you in which test that marks occurred. If marks is not found then it should print that as well."
      ]
    },
    {
      "cell_type": "code",
      "metadata": {
        "colab": {
          "base_uri": "https://localhost:8080/"
        },
        "id": "4d5RCeTiKrsv",
        "outputId": "6f223fec-911f-4b60-c9b6-c2fd6cc18769"
      },
      "source": [
        "marks_list = [65, 75, 2100, 95, 83]\n",
        "marks= eval(input(\"enter your marks: \"))\n",
        "if marks in marks_list:\n",
        "  idx = marks_list.index(marks)\n",
        "  print(f'Test Found in index : {idx}')\n",
        "else:\n",
        "  print(\"Test not Found\")"
      ],
      "execution_count": 29,
      "outputs": [
        {
          "output_type": "stream",
          "text": [
            "enter your marks: 2100\n",
            "Test Found in index : 2\n"
          ],
          "name": "stdout"
        }
      ]
    }
  ]
}
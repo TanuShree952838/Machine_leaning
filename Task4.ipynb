{
 "cells": [
  {
   "cell_type": "markdown",
   "id": "1b03a8f5-6712-4598-bf83-edc1d28898ec",
   "metadata": {},
   "source": [
    "# Task 4\n",
    "Name: Tanushree Sharma\n",
    "\n",
    "REG No.: GO_STP_928"
   ]
  },
  {
   "cell_type": "raw",
   "id": "042cce9d-4bc0-4517-9318-091de6302945",
   "metadata": {},
   "source": [
    "1. Import the numpy package under the name np and Print the numpy version and the configuration"
   ]
  },
  {
   "cell_type": "code",
   "execution_count": 19,
   "id": "6ab41222-7f1b-48b5-8672-5e119a92b7e8",
   "metadata": {},
   "outputs": [
    {
     "name": "stdout",
     "output_type": "stream",
     "text": [
      "1.19.2\n",
      "<function show at 0x00727F10>\n"
     ]
    }
   ],
   "source": [
    "import numpy as np\n",
    "print(np.__version__)\n",
    "print(np.show_config)"
   ]
  },
  {
   "cell_type": "raw",
   "id": "e28907c7-d515-4f1f-b488-7a0fc7737a0e",
   "metadata": {},
   "source": [
    "2. Create a null vector of size 10"
   ]
  },
  {
   "cell_type": "code",
   "execution_count": 15,
   "id": "020bab32-a602-4e03-9972-eaf5e402a65e",
   "metadata": {},
   "outputs": [
    {
     "name": "stdout",
     "output_type": "stream",
     "text": [
      "[0. 0. 0. 0. 0. 0. 0. 0. 0. 0.]\n"
     ]
    }
   ],
   "source": [
    "null_vactor = np.zeros(10)\n",
    "print(null_vactor)"
   ]
  },
  {
   "cell_type": "raw",
   "id": "746b417b-bd24-4d19-bb86-9681554c8cdb",
   "metadata": {},
   "source": [
    "3. Create Simple 1-D array and check type and check data types in array"
   ]
  },
  {
   "cell_type": "code",
   "execution_count": 16,
   "id": "b3b26f79-ad02-4d2b-8045-be071acb8231",
   "metadata": {},
   "outputs": [
    {
     "name": "stdout",
     "output_type": "stream",
     "text": [
      "int32\n"
     ]
    }
   ],
   "source": [
    "array = np.array([10,38,85,57,78,97,32,35,11,65])\n",
    "print(array.dtype)"
   ]
  },
  {
   "cell_type": "raw",
   "id": "2c0719be-000b-4f56-8d2a-72b4f990f5b4",
   "metadata": {},
   "source": [
    "4. How to find number of dimensions, bytes per element and bytes of memory used?"
   ]
  },
  {
   "cell_type": "code",
   "execution_count": 17,
   "id": "9aec0fc9-d163-4755-9605-c2bfda425749",
   "metadata": {},
   "outputs": [
    {
     "data": {
      "text/plain": [
       "1"
      ]
     },
     "execution_count": 17,
     "metadata": {},
     "output_type": "execute_result"
    }
   ],
   "source": [
    "array.ndim"
   ]
  },
  {
   "cell_type": "code",
   "execution_count": 20,
   "id": "374163e6-05af-4a22-88f5-dcbc85ad0365",
   "metadata": {},
   "outputs": [
    {
     "data": {
      "text/plain": [
       "4"
      ]
     },
     "execution_count": 20,
     "metadata": {},
     "output_type": "execute_result"
    }
   ],
   "source": [
    "array.itemsize\n"
   ]
  },
  {
   "cell_type": "code",
   "execution_count": 19,
   "id": "b992ab50-784b-4229-ad8e-bbf23eed48f6",
   "metadata": {},
   "outputs": [
    {
     "data": {
      "text/plain": [
       "40"
      ]
     },
     "execution_count": 19,
     "metadata": {},
     "output_type": "execute_result"
    }
   ],
   "source": [
    "array.nbytes"
   ]
  },
  {
   "cell_type": "raw",
   "id": "657202e8-078d-4941-9f7c-4c72106a4ec4",
   "metadata": {},
   "source": [
    "5. Create a null vector of size 10 but the fifth value which is 1"
   ]
  },
  {
   "cell_type": "code",
   "execution_count": 23,
   "id": "9c27e779-ab7e-4ced-9d49-e6efed19bebc",
   "metadata": {},
   "outputs": [
    {
     "name": "stdout",
     "output_type": "stream",
     "text": [
      "[0. 0. 0. 0. 1. 0. 0. 0. 0. 0.]\n"
     ]
    }
   ],
   "source": [
    "vector = np.zeros(10)\n",
    "vector[4]=1\n",
    "print(vector)"
   ]
  },
  {
   "cell_type": "raw",
   "id": "e7409670-0cdc-4c7d-8e48-73625f62a3a4",
   "metadata": {},
   "source": [
    "6. Create a vector with values ranging from 10 to 49"
   ]
  },
  {
   "cell_type": "code",
   "execution_count": 24,
   "id": "be155936-a01c-4a08-a9c8-ebbe6a509fed",
   "metadata": {},
   "outputs": [
    {
     "name": "stdout",
     "output_type": "stream",
     "text": [
      "[10 11 12 13 14 15 16 17 18 19 20 21 22 23 24 25 26 27 28 29 30 31 32 33\n",
      " 34 35 36 37 38 39 40 41 42 43 44 45 46 47 48 49]\n"
     ]
    }
   ],
   "source": [
    "vector = np.arange(10,50)\n",
    "print(vector)"
   ]
  },
  {
   "cell_type": "raw",
   "id": "ba34b6d7-8440-49ba-b4d5-fdd307a70080",
   "metadata": {},
   "source": [
    "7. Reverse a vector (first element becomes last)"
   ]
  },
  {
   "cell_type": "code",
   "execution_count": 31,
   "id": "a54f503f-3f78-46d3-9a0a-7e32fffa74d9",
   "metadata": {},
   "outputs": [
    {
     "name": "stdout",
     "output_type": "stream",
     "text": [
      "[49 48 47 46 45 44 43 42 41 40 39 38 37 36 35 34 33 32 31 30 29 28 27 26\n",
      " 25 24 23 22 21 20 19 18 17 16 15 14 13 12 11 10]\n"
     ]
    }
   ],
   "source": [
    "print(np.flip(vector))"
   ]
  },
  {
   "cell_type": "raw",
   "id": "edb5aa20-ffed-4b00-a181-0b74bab9af25",
   "metadata": {},
   "source": [
    "8. Create a 3x3 matrix with values ranging from 0 to 8"
   ]
  },
  {
   "cell_type": "code",
   "execution_count": 41,
   "id": "efee0876-96b8-4909-8925-fd7d38e5cc69",
   "metadata": {},
   "outputs": [
    {
     "data": {
      "text/plain": [
       "array([[0, 1, 2],\n",
       "       [3, 4, 5],\n",
       "       [6, 7, 8]])"
      ]
     },
     "execution_count": 41,
     "metadata": {},
     "output_type": "execute_result"
    }
   ],
   "source": [
    "matrix= np.arange(0,9)\n",
    "matrix.reshape((3,3))"
   ]
  },
  {
   "cell_type": "raw",
   "id": "6b01fe60-dfe4-45ef-bc92-4d93973c5429",
   "metadata": {},
   "source": [
    "9. Find indices of non-zero elements from [1,2,0,0,4,0]"
   ]
  },
  {
   "cell_type": "code",
   "execution_count": 42,
   "id": "6ff7fdaf-5392-410e-9cde-427575f556a4",
   "metadata": {},
   "outputs": [
    {
     "data": {
      "text/plain": [
       "(array([0, 1, 4], dtype=int32),)"
      ]
     },
     "execution_count": 42,
     "metadata": {},
     "output_type": "execute_result"
    }
   ],
   "source": [
    "array = [1,2,0,0,4,0]\n",
    "np.nonzero(array)"
   ]
  },
  {
   "cell_type": "raw",
   "id": "38d1fb63-0ec3-438b-b72c-f88dba20d73c",
   "metadata": {},
   "source": [
    "10. Create a 3x3 identity matrix"
   ]
  },
  {
   "cell_type": "code",
   "execution_count": 45,
   "id": "83fc1fcc-bf73-4565-842a-b1327ca1ec37",
   "metadata": {},
   "outputs": [
    {
     "data": {
      "text/plain": [
       "array([[1., 0., 0.],\n",
       "       [0., 1., 0.],\n",
       "       [0., 0., 1.]])"
      ]
     },
     "execution_count": 45,
     "metadata": {},
     "output_type": "execute_result"
    }
   ],
   "source": [
    "matrix = np.identity(3)\n",
    "np.eye(3,3)"
   ]
  },
  {
   "cell_type": "raw",
   "id": "d9361a37-129a-4e5b-9ce8-7af64c3ba4f3",
   "metadata": {},
   "source": [
    "11. Create a 3x3x3 array with random values"
   ]
  },
  {
   "cell_type": "code",
   "execution_count": 47,
   "id": "39ec2a20-3259-4277-b84b-4ba594f19c33",
   "metadata": {},
   "outputs": [
    {
     "data": {
      "text/plain": [
       "array([[[0.61762914, 0.13948286, 0.53484255],\n",
       "        [0.20832702, 0.0245882 , 0.70709484],\n",
       "        [0.90663592, 0.31157318, 0.36336523]],\n",
       "\n",
       "       [[0.29892826, 0.25892615, 0.01294021],\n",
       "        [0.65216354, 0.42923685, 0.33067948],\n",
       "        [0.6964044 , 0.14982562, 0.04227559]],\n",
       "\n",
       "       [[0.97422806, 0.94470636, 0.76425598],\n",
       "        [0.81424339, 0.07598739, 0.60093066],\n",
       "        [0.51947154, 0.47103567, 0.1490211 ]]])"
      ]
     },
     "execution_count": 47,
     "metadata": {},
     "output_type": "execute_result"
    }
   ],
   "source": [
    "np.random.random((3,3,3))"
   ]
  },
  {
   "cell_type": "raw",
   "id": "929f8892-f4e1-41f0-b45c-92efe1d5be55",
   "metadata": {},
   "source": [
    "12. Create a 10x10 array with random values and find the minimum and maximum values"
   ]
  },
  {
   "cell_type": "code",
   "execution_count": 50,
   "id": "11dfdefd-d67d-4521-a3c1-f5cf5c1ba63e",
   "metadata": {},
   "outputs": [
    {
     "name": "stdout",
     "output_type": "stream",
     "text": [
      "[[0.80276289 0.1396621  0.57762504 0.49712558 0.96797441 0.81072944\n",
      "  0.87089516 0.87837694 0.44713819 0.49971629]\n",
      " [0.2063998  0.80273208 0.80819094 0.28259666 0.10268051 0.93635287\n",
      "  0.43757149 0.85845577 0.36162586 0.08233929]\n",
      " [0.77144401 0.13640361 0.76233884 0.842254   0.83844916 0.39200411\n",
      "  0.91905533 0.10318262 0.34011369 0.20743968]\n",
      " [0.91082157 0.11815553 0.73068939 0.21051604 0.84094511 0.11222756\n",
      "  0.82399537 0.63959272 0.88367569 0.25674931]\n",
      " [0.49980246 0.19816336 0.29262195 0.91690084 0.41926199 0.92641449\n",
      "  0.83445705 0.60960202 0.23128995 0.05496666]\n",
      " [0.40771463 0.03484965 0.46867564 0.88684315 0.70720773 0.82249389\n",
      "  0.12031343 0.30860732 0.17966833 0.91357063]\n",
      " [0.00723902 0.50117092 0.18605393 0.12609108 0.12725133 0.00659004\n",
      "  0.31905557 0.83636421 0.64237365 0.24021688]\n",
      " [0.74047125 0.81265904 0.39321804 0.59787834 0.9528257  0.57016518\n",
      "  0.60518524 0.90801767 0.55813414 0.48669368]\n",
      " [0.71642974 0.35440575 0.41251192 0.47635483 0.79913738 0.86046669\n",
      "  0.61922952 0.63889161 0.91614129 0.17501094]\n",
      " [0.22583156 0.94158462 0.22942327 0.83798353 0.64792593 0.97269197\n",
      "  0.70404387 0.39200212 0.05545861 0.77543668]]\n",
      "Minimum Value : 0.006590042265531726\n",
      "Maximum Value : 0.9726919701178125\n"
     ]
    }
   ],
   "source": [
    "matrix= np.random.random((10,10))\n",
    "print(matrix)\n",
    "print(\"Minimum Value :\", matrix.min())\n",
    "print(\"Maximum Value :\", matrix.max())"
   ]
  },
  {
   "cell_type": "raw",
   "id": "6893ca86-abbe-4f59-90f2-d31ba5c22205",
   "metadata": {},
   "source": [
    "13. Create a random vector of size 30 and find the mean value"
   ]
  },
  {
   "cell_type": "code",
   "execution_count": 53,
   "id": "ced153f1-9aad-4df4-8b8f-a7080de39b63",
   "metadata": {},
   "outputs": [
    {
     "name": "stdout",
     "output_type": "stream",
     "text": [
      "Vector:  [0.5686658  0.39749881 0.70424304 0.41773867 0.04175239 0.26585732\n",
      " 0.23129613 0.08597118 0.62269171 0.9074327  0.61768549 0.30267286\n",
      " 0.706822   0.92819906 0.12141947 0.5314026  0.10302925 0.50377062\n",
      " 0.79115225 0.9547506  0.24546572 0.19416204 0.34367437 0.01938066\n",
      " 0.38415    0.88985803 0.61075293 0.04305856 0.23541746 0.68623269]\n",
      "Mean:  0.44854014691120764\n"
     ]
    }
   ],
   "source": [
    "vector = np.random.random((30))\n",
    "print(\"Vector: \",vector)\n",
    "print(\"Mean: \",vector.mean())"
   ]
  },
  {
   "cell_type": "raw",
   "id": "b7b357a1-dec7-422a-ba41-c1b2bae3d931",
   "metadata": {},
   "source": [
    "14. Create a 2d array with 1 on the border and 0 inside"
   ]
  },
  {
   "cell_type": "code",
   "execution_count": 57,
   "id": "494b8ce7-2d08-4d03-9abd-1a99f305d3c7",
   "metadata": {},
   "outputs": [
    {
     "name": "stdout",
     "output_type": "stream",
     "text": [
      "[[1. 1. 1. 1.]\n",
      " [1. 0. 0. 1.]\n",
      " [1. 0. 0. 1.]\n",
      " [1. 1. 1. 1.]]\n"
     ]
    }
   ],
   "source": [
    "array = np.ones((4,4))\n",
    "array[1:3,1:3]=0\n",
    "print(array)\n"
   ]
  },
  {
   "cell_type": "raw",
   "id": "1215c1a6-dc36-472f-af4f-3c1a19b5e3d7",
   "metadata": {},
   "source": [
    "15. How to add a border (filled with 0's) around an existing array? "
   ]
  },
  {
   "cell_type": "code",
   "execution_count": 60,
   "id": "0622c7d7-1958-403e-b398-e671b6dbbe9b",
   "metadata": {},
   "outputs": [
    {
     "name": "stdout",
     "output_type": "stream",
     "text": [
      "[[0. 0. 0. 0.]\n",
      " [0. 1. 1. 0.]\n",
      " [0. 1. 1. 0.]\n",
      " [0. 0. 0. 0.]]\n"
     ]
    }
   ],
   "source": [
    "array = np.zeros((4,4))\n",
    "array[1:3,1:3]=1\n",
    "print(array)"
   ]
  },
  {
   "cell_type": "raw",
   "id": "c5f27f08-c072-4872-8b73-70a2ca9f8f21",
   "metadata": {},
   "source": [
    "16. How to Accessing/Changing specific elements, rows, columns, etc in Numpy array?\n",
    "Example -\n",
    "[[ 1 2 3 4 5 6 7] [ 8 9 10 11 12 13 14]]\n",
    "Get 13, get first row only, get 3rd column only, get [2, 4, 6], replace 13 by 20"
   ]
  },
  {
   "cell_type": "code",
   "execution_count": 70,
   "id": "e3ce23c9-3691-4df4-a428-dcfd9421111a",
   "metadata": {},
   "outputs": [
    {
     "name": "stdout",
     "output_type": "stream",
     "text": [
      "Accessing Element 13 :  13\n",
      "First Row :  [1 2 3 4 5 6 7]\n",
      "Third column :  3\n",
      "[2 4 6]\n",
      "Replace Element 13 :  20\n"
     ]
    }
   ],
   "source": [
    "array = np.array([[ 1,2,3,4,5,6,7],[8,9,10,11,12,13,14]])\n",
    "print(\"Accessing Element 13 : \", array[1,5])\n",
    "print(\"First Row : \", array[0])\n",
    "print(\"Third column : \", array[0,2])\n",
    "print(array[0,1:6:2])\n",
    "array[1,5] = 20\n",
    "print(\"Replace Element 13 : \", array[1,5])"
   ]
  },
  {
   "cell_type": "raw",
   "id": "c918d41d-e12a-46a0-b99d-68c365756e53",
   "metadata": {},
   "source": [
    "17. How to Convert a 1D array to a 2D array with 2 rows"
   ]
  },
  {
   "cell_type": "code",
   "execution_count": 71,
   "id": "2103a7ed-c8f7-4c1e-bc3e-7b73a5b48d91",
   "metadata": {},
   "outputs": [
    {
     "data": {
      "text/plain": [
       "array([[0.58471509, 0.86493963, 0.17815161, 0.51075522, 0.19123215],\n",
       "       [0.4532872 , 0.83567696, 0.98742277, 0.39310609, 0.10735054]])"
      ]
     },
     "execution_count": 71,
     "metadata": {},
     "output_type": "execute_result"
    }
   ],
   "source": [
    "randomarr = np.random.random(10)\n",
    "randomarr = randomarr.reshape(2,5)\n",
    "randomarr"
   ]
  },
  {
   "cell_type": "raw",
   "id": "5b22d73b-3897-4fc6-bc3d-ed30d98a58ed",
   "metadata": {},
   "source": [
    "18. Create the following pattern without hardcoding. Use only numpy functions and the below input array a.\n",
    "\n",
    "Input:\n",
    "a = np.array([1,2,3])\n",
    "\n",
    "Desired Output:\n",
    "array([1, 1, 1, 2, 2, 2, 3, 3, 3, 1, 2, 3, 1, 2, 3, 1, 2, 3])"
   ]
  },
  {
   "cell_type": "code",
   "execution_count": 3,
   "id": "271a5343-e8d0-4bc1-80bf-f6c6c5e8da02",
   "metadata": {},
   "outputs": [
    {
     "name": "stdout",
     "output_type": "stream",
     "text": [
      "[1 2 3]\n"
     ]
    }
   ],
   "source": [
    "a = np.array([1,2,3])\n",
    "print(a)"
   ]
  },
  {
   "cell_type": "code",
   "execution_count": 5,
   "id": "f75611ca-9a58-43b8-aaee-114f730a8d35",
   "metadata": {},
   "outputs": [
    {
     "name": "stdout",
     "output_type": "stream",
     "text": [
      "[1 1 1 2 2 2 3 3 3 1 2 3 1 2 3 1 2 3]\n"
     ]
    }
   ],
   "source": [
    "a = np.append(np.repeat(a,3),np.tile(a,3))\n",
    "print(a)"
   ]
  },
  {
   "cell_type": "raw",
   "id": "cc3a003b-626e-4a12-b7f6-cac056f5989e",
   "metadata": {},
   "source": [
    "19. Write a program to show how Numpy taking less memory compared to Python List?"
   ]
  },
  {
   "cell_type": "code",
   "execution_count": 42,
   "id": "428da791-0bda-4be6-b470-e027a0c674b8",
   "metadata": {},
   "outputs": [
    {
     "name": "stdout",
     "output_type": "stream",
     "text": [
      "Size of list :  14000\n",
      "Size of numpy array :  4000\n"
     ]
    }
   ],
   "source": [
    "l = range(1000)\n",
    "import sys\n",
    "a = 10\n",
    "print(\"Size of list : \", sys.getsizeof(a)*len(l))\n",
    "a1 = np.arange(1000)\n",
    "print(\"Size of numpy array : \", a1.size*a1.itemsize)"
   ]
  },
  {
   "cell_type": "raw",
   "id": "2a2e31da-c94d-4493-80f7-9f576d49a540",
   "metadata": {},
   "source": [
    "20. Write a program to show how Numpy taking less time compared to Python List?"
   ]
  },
  {
   "cell_type": "code",
   "execution_count": 43,
   "id": "8faf8647-e390-4f55-88fd-bb6faa9da447",
   "metadata": {},
   "outputs": [
    {
     "name": "stdout",
     "output_type": "stream",
     "text": [
      "Time take by List :  157.70554542541504\n",
      "Time taken by numpy array :  15.622377395629883\n"
     ]
    }
   ],
   "source": [
    "import time\n",
    "import sys\n",
    "size =1000000\n",
    "l1 = range(size)\n",
    "l2 = range(size)\n",
    "n1 = np.arange(size)\n",
    "n2 = np.arange(size)\n",
    "start = time.time( )\n",
    "res = [(x+y) for x,y in zip(l1,l2)]\n",
    "print(\"Time take by List : \", (time.time()-start)*1000)\n",
    "start = time.time( )\n",
    "res1 = n1+n2\n",
    "print(\"Time taken by numpy array : \", (time.time()-start)*1000)"
   ]
  }
 ],
 "metadata": {
  "kernelspec": {
   "display_name": "Python 3",
   "language": "python",
   "name": "python3"
  },
  "language_info": {
   "codemirror_mode": {
    "name": "ipython",
    "version": 3
   },
   "file_extension": ".py",
   "mimetype": "text/x-python",
   "name": "python",
   "nbconvert_exporter": "python",
   "pygments_lexer": "ipython3",
   "version": "3.8.5"
  }
 },
 "nbformat": 4,
 "nbformat_minor": 5
}

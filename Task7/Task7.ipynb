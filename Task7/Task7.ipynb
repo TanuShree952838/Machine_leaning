{
 "cells": [
  {
   "cell_type": "markdown",
   "id": "3221fd86-57d8-4321-9025-8709f13159af",
   "metadata": {},
   "source": [
    "# Task 7\n",
    "# Name: Tanushree Sharma\n",
    "# Reg No. GO_STP_928"
   ]
  },
  {
   "cell_type": "raw",
   "id": "7d8ffbf7-063d-4bc4-94b8-149a08f0df1b",
   "metadata": {},
   "source": [
    "Prediction using Supervised Machine Learning using Simple Linear Regression\n",
    "\n",
    "In this task we have to find the students scores based on their study hours. This is a simple Regression problem type because it has only two variables."
   ]
  },
  {
   "cell_type": "code",
   "execution_count": 2,
   "id": "aa3124e3-b8b2-4991-8474-5605309b7146",
   "metadata": {},
   "outputs": [],
   "source": [
    "import numpy as np\n",
    "import pandas as pd\n",
    "import matplotlib.pyplot as plt"
   ]
  },
  {
   "cell_type": "code",
   "execution_count": 5,
   "id": "fcbe8a11-f78a-4eb2-889f-16b2527d4527",
   "metadata": {},
   "outputs": [],
   "source": [
    "data = pd.read_csv(\"StudentHoursScores.csv\")"
   ]
  },
  {
   "cell_type": "code",
   "execution_count": 6,
   "id": "4f81927c-350a-466f-ae5e-65ea0548f66c",
   "metadata": {},
   "outputs": [
    {
     "name": "stdout",
     "output_type": "stream",
     "text": [
      "   Hours  Scores\n",
      "0    7.7      79\n",
      "1    5.9      60\n",
      "2    4.5      45\n",
      "3    3.3      33\n",
      "4    1.1      12\n"
     ]
    }
   ],
   "source": [
    "print(data.head())"
   ]
  },
  {
   "cell_type": "code",
   "execution_count": 8,
   "id": "79161203-5158-4112-abf7-3b74796f7e20",
   "metadata": {},
   "outputs": [
    {
     "name": "stdout",
     "output_type": "stream",
     "text": [
      "    Hours  Scores\n",
      "18    9.6      96\n",
      "19    4.3      42\n",
      "20    4.1      40\n",
      "21    3.0      30\n",
      "22    2.6      25\n"
     ]
    }
   ],
   "source": [
    "print(data.tail())"
   ]
  },
  {
   "cell_type": "code",
   "execution_count": 10,
   "id": "06b58a24-497d-42e1-999f-8f83be3ebabd",
   "metadata": {},
   "outputs": [
    {
     "name": "stdout",
     "output_type": "stream",
     "text": [
      "(23, 2)\n"
     ]
    }
   ],
   "source": [
    "print(data.shape)"
   ]
  },
  {
   "cell_type": "code",
   "execution_count": 11,
   "id": "44532546-a121-4d31-b1e7-90e06ef4fdac",
   "metadata": {},
   "outputs": [
    {
     "name": "stdout",
     "output_type": "stream",
     "text": [
      "Hours     float64\n",
      "Scores      int64\n",
      "dtype: object\n"
     ]
    }
   ],
   "source": [
    "print(data.dtypes)"
   ]
  },
  {
   "cell_type": "code",
   "execution_count": 12,
   "id": "bca71b12-5757-4160-8eb7-0ac109bb81b4",
   "metadata": {},
   "outputs": [
    {
     "name": "stdout",
     "output_type": "stream",
     "text": [
      "Index(['Hours', 'Scores'], dtype='object')\n"
     ]
    }
   ],
   "source": [
    "print(data.columns)"
   ]
  },
  {
   "cell_type": "code",
   "execution_count": 13,
   "id": "b8abd309-4568-4417-a3fe-14a358189e2d",
   "metadata": {},
   "outputs": [
    {
     "name": "stdout",
     "output_type": "stream",
     "text": [
      "           Hours    Scores\n",
      "Hours   1.000000  0.997656\n",
      "Scores  0.997656  1.000000\n"
     ]
    }
   ],
   "source": [
    "print(data.corr())"
   ]
  },
  {
   "cell_type": "code",
   "execution_count": 14,
   "id": "df0cd00c-fa93-40b0-8498-be7668b666f7",
   "metadata": {},
   "outputs": [
    {
     "data": {
      "text/html": [
       "<div>\n",
       "<style scoped>\n",
       "    .dataframe tbody tr th:only-of-type {\n",
       "        vertical-align: middle;\n",
       "    }\n",
       "\n",
       "    .dataframe tbody tr th {\n",
       "        vertical-align: top;\n",
       "    }\n",
       "\n",
       "    .dataframe thead th {\n",
       "        text-align: right;\n",
       "    }\n",
       "</style>\n",
       "<table border=\"1\" class=\"dataframe\">\n",
       "  <thead>\n",
       "    <tr style=\"text-align: right;\">\n",
       "      <th></th>\n",
       "      <th>Hours</th>\n",
       "      <th>Scores</th>\n",
       "    </tr>\n",
       "  </thead>\n",
       "  <tbody>\n",
       "    <tr>\n",
       "      <th>count</th>\n",
       "      <td>23.000000</td>\n",
       "      <td>23.000000</td>\n",
       "    </tr>\n",
       "    <tr>\n",
       "      <th>mean</th>\n",
       "      <td>4.817391</td>\n",
       "      <td>47.695652</td>\n",
       "    </tr>\n",
       "    <tr>\n",
       "      <th>std</th>\n",
       "      <td>2.709688</td>\n",
       "      <td>27.103228</td>\n",
       "    </tr>\n",
       "    <tr>\n",
       "      <th>min</th>\n",
       "      <td>1.100000</td>\n",
       "      <td>12.000000</td>\n",
       "    </tr>\n",
       "    <tr>\n",
       "      <th>25%</th>\n",
       "      <td>2.650000</td>\n",
       "      <td>27.000000</td>\n",
       "    </tr>\n",
       "    <tr>\n",
       "      <th>50%</th>\n",
       "      <td>4.100000</td>\n",
       "      <td>40.000000</td>\n",
       "    </tr>\n",
       "    <tr>\n",
       "      <th>75%</th>\n",
       "      <td>7.100000</td>\n",
       "      <td>72.500000</td>\n",
       "    </tr>\n",
       "    <tr>\n",
       "      <th>max</th>\n",
       "      <td>9.600000</td>\n",
       "      <td>96.000000</td>\n",
       "    </tr>\n",
       "  </tbody>\n",
       "</table>\n",
       "</div>"
      ],
      "text/plain": [
       "           Hours     Scores\n",
       "count  23.000000  23.000000\n",
       "mean    4.817391  47.695652\n",
       "std     2.709688  27.103228\n",
       "min     1.100000  12.000000\n",
       "25%     2.650000  27.000000\n",
       "50%     4.100000  40.000000\n",
       "75%     7.100000  72.500000\n",
       "max     9.600000  96.000000"
      ]
     },
     "execution_count": 14,
     "metadata": {},
     "output_type": "execute_result"
    }
   ],
   "source": [
    "data.describe()"
   ]
  },
  {
   "cell_type": "code",
   "execution_count": 15,
   "id": "5f1075e9-b796-4976-be65-abbe4a73bdd7",
   "metadata": {},
   "outputs": [
    {
     "data": {
      "text/plain": [
       "pandas.core.frame.DataFrame"
      ]
     },
     "execution_count": 15,
     "metadata": {},
     "output_type": "execute_result"
    }
   ],
   "source": [
    "type(data)"
   ]
  },
  {
   "cell_type": "code",
   "execution_count": 20,
   "id": "9851b013-4f3c-494f-a193-408563e50b56",
   "metadata": {},
   "outputs": [
    {
     "name": "stdout",
     "output_type": "stream",
     "text": [
      "   Hours\n",
      "0    7.7\n",
      "1    5.9\n",
      "2    4.5\n",
      "3    3.3\n",
      "4    1.1\n",
      "18    96\n",
      "19    42\n",
      "20    40\n",
      "21    30\n",
      "22    25\n",
      "Name: Scores, dtype: int64\n",
      "(23, 1) (23,)\n"
     ]
    }
   ],
   "source": [
    "x = data.iloc[:,0:-1]\n",
    "y = data.iloc[:,-1]\n",
    "print(x.head())\n",
    "print(y.tail())\n",
    "print(x.shape,y.shape)"
   ]
  },
  {
   "cell_type": "code",
   "execution_count": 24,
   "id": "58123674-4091-4d99-8edc-b4e477079c2d",
   "metadata": {},
   "outputs": [],
   "source": [
    "from sklearn.model_selection import train_test_split"
   ]
  },
  {
   "cell_type": "code",
   "execution_count": 25,
   "id": "7f8fab30-1a48-4123-9d85-b947f0c2ee54",
   "metadata": {},
   "outputs": [
    {
     "name": "stdout",
     "output_type": "stream",
     "text": [
      "(18, 1)\n",
      "(5, 1)\n",
      "(18,)\n",
      "(5,)\n"
     ]
    }
   ],
   "source": [
    "x_train,x_test,y_train,y_test = train_test_split(x,y,test_size=.2,random_state=1)\n",
    "print(x_train.shape)\n",
    "print(x_test.shape)\n",
    "print(y_train.shape)\n",
    "print(y_test.shape)"
   ]
  },
  {
   "cell_type": "code",
   "execution_count": 26,
   "id": "adcf438b-2ffc-45c1-9e9f-83a6aac1e4bb",
   "metadata": {},
   "outputs": [
    {
     "data": {
      "text/plain": [
       "LinearRegression()"
      ]
     },
     "execution_count": 26,
     "metadata": {},
     "output_type": "execute_result"
    }
   ],
   "source": [
    "from sklearn.linear_model import LinearRegression\n",
    "std_model  = LinearRegression()\n",
    "std_model.fit(x_train,y_train)"
   ]
  },
  {
   "cell_type": "code",
   "execution_count": 27,
   "id": "3f240c4a-5ebb-4a6e-b553-341c47214f07",
   "metadata": {},
   "outputs": [
    {
     "name": "stdout",
     "output_type": "stream",
     "text": [
      "[40.87711348 25.025345   32.95122924 34.9327003  42.85858454]\n",
      "20    40\n",
      "17    21\n",
      "3     33\n",
      "13    34\n",
      "19    42\n",
      "Name: Scores, dtype: int64\n",
      "    Hours\n",
      "20    4.1\n",
      "17    2.5\n",
      "3     3.3\n",
      "13    3.5\n",
      "19    4.3\n"
     ]
    }
   ],
   "source": [
    "y_pred = std_model.predict(x_test)\n",
    "print(y_pred)\n",
    "print(y_test)\n",
    "print(x_test)"
   ]
  },
  {
   "cell_type": "code",
   "execution_count": 28,
   "id": "fd09f600-27cf-4852-baf8-daca8cbd009e",
   "metadata": {},
   "outputs": [
    {
     "name": "stdout",
     "output_type": "stream",
     "text": [
      "[9.9073553]\n",
      "0.2569567372371182\n",
      "accuracy is:  0.9311770139374422\n",
      "3.716441247378121\n"
     ]
    }
   ],
   "source": [
    "print(std_model.coef_)\n",
    "print(std_model.intercept_)\n",
    "from sklearn.metrics import r2_score, mean_squared_error\n",
    "print(\"accuracy is: \", r2_score(y_test,y_pred))\n",
    "print(mean_squared_error(y_test,y_pred))"
   ]
  },
  {
   "cell_type": "code",
   "execution_count": 29,
   "id": "5b8587c0-2f09-43e4-bc38-77da55deb53f",
   "metadata": {},
   "outputs": [
    {
     "data": {
      "text/plain": [
       "0.06882298606255777"
      ]
     },
     "execution_count": 29,
     "metadata": {},
     "output_type": "execute_result"
    }
   ],
   "source": [
    "vif = 1/1-(r2_score(y_test,y_pred))\n",
    "\n",
    "vif"
   ]
  },
  {
   "cell_type": "code",
   "execution_count": 64,
   "id": "5c2823ea-b678-4f4d-a437-6a18fc8295d7",
   "metadata": {},
   "outputs": [
    {
     "data": {
      "image/png": "[encoded data removed]",
      "text/plain": [
       "<Figure size 432x288 with 1 Axes>"
      ]
     },
     "metadata": {
      "needs_background": "light"
     },
     "output_type": "display_data"
    }
   ],
   "source": [
    "plt.scatter(x_train,y_train, marker= '*',color='b')\n",
    "plt.plot(x_train,std_model.predict(x_train),color='r')         \n",
    "plt.grid()\n",
    "plt.show()"
   ]
  }
 ],
 "metadata": {
  "kernelspec": {
   "display_name": "Python 3",
   "language": "python",
   "name": "python3"
  },
  "language_info": {
   "codemirror_mode": {
    "name": "ipython",
    "version": 3
   },
   "file_extension": ".py",
   "mimetype": "text/x-python",
   "name": "python",
   "nbconvert_exporter": "python",
   "pygments_lexer": "ipython3",
   "version": "3.8.5"
  }
 },
 "nbformat": 4,
 "nbformat_minor": 5
}

{
  "nbformat": 4,
  "nbformat_minor": 0,
  "metadata": {
    "colab": {
      "name": "task3.ipynb",
      "provenance": [],
      "collapsed_sections": []
    },
    "kernelspec": {
      "name": "python3",
      "display_name": "Python 3"
    },
    "language_info": {
      "name": "python"
    }
  },
  "cells": [
    {
      "cell_type": "markdown",
      "metadata": {
        "id": "qDzy88ebm95S"
      },
      "source": [
        "**Task 3**\n",
        "\n",
        "Registration id:- GO_STP_928\n",
        "\n",
        "Name: - Tanushree Sharma"
      ]
    },
    {
      "cell_type": "markdown",
      "metadata": {
        "id": "MkS2b5gtnL23"
      },
      "source": [
        "**1. Write a Python Program to sort (ascending and descending) a dictionary by value.**\n"
      ]
    },
    {
      "cell_type": "code",
      "metadata": {
        "colab": {
          "base_uri": "https://localhost:8080/"
        },
        "id": "ChHUgHClpNVh",
        "outputId": "a7f862b3-c280-433e-e778-516160baf0de"
      },
      "source": [
        "import operator\n",
        "d = {1: 190, 7: 2000, 6: 300, 8: 4600, 5: 500}\n",
        "print('Original dictionary : ',d)\n",
        "sorted_d = sorted(d.items(), key=operator.itemgetter(1))\n",
        "print('Dictionary in ascending order by value : ',sorted_d)\n",
        "sorted_d = ( sorted(d.items(), key=operator.itemgetter(1),reverse=True))\n",
        "print('Dictionary in descending order by value : ',sorted_d)"
      ],
      "execution_count": null,
      "outputs": [
        {
          "output_type": "stream",
          "text": [
            "Original dictionary :  {1: 190, 7: 2000, 6: 300, 8: 4600, 5: 500}\n",
            "Dictionary in ascending order by value :  [(1, 190), (6, 300), (5, 500), (7, 2000), (8, 4600)]\n",
            "Dictionary in descending order by value :  [(8, 4600), (7, 2000), (5, 500), (6, 300), (1, 190)]\n"
          ],
          "name": "stdout"
        }
      ]
    },
    {
      "cell_type": "markdown",
      "metadata": {
        "id": "oz3KgWNpm97B"
      },
      "source": [
        "**2. Write a Python Program to add a key to a dictionary.**\n",
        "\n",
        "**Sample Dictionary : {0: 10, 1: 20}**\n",
        "\n",
        "**Expected Result : {0: 10, 1: 20, 2: 30}**"
      ]
    },
    {
      "cell_type": "code",
      "metadata": {
        "colab": {
          "base_uri": "https://localhost:8080/"
        },
        "id": "wYPkVkTEtJZg",
        "outputId": "6cca1891-5ea7-4d0f-f54a-05b25b0973bb"
      },
      "source": [
        "dict = {0: 10, 1: 20}\n",
        "print(\"Sample Dictionary : \",dict)\n",
        "dict[2] = 30\n",
        "print(\"Expected Result : \",dict)"
      ],
      "execution_count": null,
      "outputs": [
        {
          "output_type": "stream",
          "text": [
            "Sample Dictionary :  {0: 10, 1: 20}\n",
            "Expected Result :  {0: 10, 1: 20, 2: 30}\n"
          ],
          "name": "stdout"
        }
      ]
    },
    {
      "cell_type": "markdown",
      "metadata": {
        "id": "fE8cUQUBm98M"
      },
      "source": [
        "**3.  Write a  program asks for City name and Temperature and builds a dictionary using that Later on you can input City name and it will tell you the temperature of that City.**"
      ]
    },
    {
      "cell_type": "code",
      "metadata": {
        "colab": {
          "base_uri": "https://localhost:8080/"
        },
        "id": "i9Nx6HzJt80b",
        "outputId": "8fb83681-5a16-4680-c9d7-3ee7344d103a"
      },
      "source": [
        "dict = {}\n",
        "n=5\n",
        "for i in range(n):\n",
        "   n1, n2 = input(\"Enter the city name and temperature: \").split(\",\")\n",
        "   dict[n1] = n2\n",
        "\n",
        "x = input(\"Enter the City name for which temperature to be known: \")\n",
        "print(\"The temperature of the city {} is {}\".format(x,dict[x]))  \n"
      ],
      "execution_count": null,
      "outputs": [
        {
          "output_type": "stream",
          "text": [
            "Enter the city name and temperature: Hyderabad, 41\n",
            "Enter the city name and temperature: Mumbai,39\n",
            "Enter the city name and temperature: Bulendshahr, 44\n",
            "Enter the city name and temperature: Delhi,45\n",
            "Enter the city name and temperature: Chennai, 49\n",
            "Enter the City name for which temperature to be known: Bulendshahr\n",
            "The temperature of the city Bulendshahr is  44\n"
          ],
          "name": "stdout"
        }
      ]
    },
    {
      "cell_type": "markdown",
      "metadata": {
        "id": "fDA_-5sJvkwM"
      },
      "source": [
        "**4.  Write a Python program to convert list to list of dictionaries.**\n",
        "\n",
        "Sample lists: [\"Black\", \"Red\", \"Maroon\", \"Yellow\"], [\"#000000\", \"#FF0000\", \"#800000\", \"#FFFF00\"]\n",
        "\n",
        "Expected Output: [{'color_name': 'Black', 'color_code': '#000000'}, {'color_name': 'Red', 'color_code': '#FF0000'}, {'color_name': 'Maroon', 'color_code': '#800000'}, {'color_name': 'Yellow', 'color_code': '#FFFF00'}]"
      ]
    },
    {
      "cell_type": "code",
      "metadata": {
        "colab": {
          "base_uri": "https://localhost:8080/"
        },
        "id": "1m46Q8fLvtsp",
        "outputId": "d7b0404f-6250-4237-987e-a3081cc27b6e"
      },
      "source": [
        "color_name = [\"Black\", \"Red\", \"Maroon\", \"Yellow\"]\n",
        "color_code = [\"#000000\", \"#FF0000\", \"#800000\", \"#FFFF00\"]\n",
        "print([{'color_name': f, 'color_code': c} for f, c in zip(color_name, color_code)])"
      ],
      "execution_count": null,
      "outputs": [
        {
          "output_type": "stream",
          "text": [
            "[{'color_name': 'Black', 'color_code': '#000000'}, {'color_name': 'Red', 'color_code': '#FF0000'}, {'color_name': 'Maroon', 'color_code': '#800000'}, {'color_name': 'Yellow', 'color_code': '#FFFF00'}]\n"
          ],
          "name": "stdout"
        }
      ]
    },
    {
      "cell_type": "markdown",
      "metadata": {
        "id": "Ht_nUgwLwOsM"
      },
      "source": [
        "**5. We have following information on Employees and their Salary (Salary is in lakhs),**\n",
        "\n",
        "Employee==Salary\n",
        "\n",
        "John\t==  14\n",
        "Smith\t==  13\n",
        "Alice\t==  32\n",
        "Daneil==  21\n",
        "\n",
        "Using above create a dictionary of Employees and their Salary\n",
        "Write a program that asks user for three type of inputs,\n",
        "print: if user enter print then it should print all Employees with their Salary in this format,\n",
        "John ==>14\n",
        "Smith ==>13\n",
        "Alice ==>32\n",
        "Daneil ==>21\n",
        "add: if user input adds then it should further ask for an Employee name to add. If Employee already exists in our dataset then it should print that it exists and do nothing. If it doesn't then it asks for Salary and add that new Employee/Salary in our dictionary and print it\n",
        "remove: when user inputs remove it should ask for an Employee to remove. If an Employee exists in our dictionary then remove it and print a new dictionary using format shown above in (a). Else print that Employee doesn't exist!\n",
        "query: on this again ask the user for which Employee he or she wants to query. When a user inputs that Employee it will print the Salary of that Employee."
      ]
    },
    {
      "cell_type": "code",
      "metadata": {
        "colab": {
          "base_uri": "https://localhost:8080/"
        },
        "id": "9YB8n1OQweVP",
        "outputId": "00d9aa6d-870b-446a-acc2-09b8788e638b"
      },
      "source": [
        "dict = {\"John\":14,\"Smith\":13,\"Alice\":32,\"Daniel\":21}\n",
        "opt = input(\"Enter the operation to be performed: \")\n",
        "if(opt==\"print\"):\n",
        "  for i,j in dict.items():\n",
        "      print(\"{} ==> {}\".format(i,j))\n",
        "elif(opt==\"add\"):\n",
        "  name = input(\"Enter the name: \")\n",
        "  salary = int(input(\"Enter the salary: \"))\n",
        "  if(name in dict):\n",
        "    print(\"Employee already exist in the database\")\n",
        "  else:\n",
        "    dict[name] = salary\n",
        "  print(dict)\n",
        "elif(opt==\"remove\"):\n",
        "  name1 = input(\"Enter the name: \")\n",
        "  if(name1 not in dict):\n",
        "    print(\"Employee does not exist...\")\n",
        "  else:\n",
        "    dict.pop(name1)\n",
        "    print(dict)\n",
        "elif(opt==\"query\"):\n",
        "  name2 = input(\"Enter the name: \")\n",
        "  if(name2 not in dict):\n",
        "    print(\"Employee does not exist...\")\n",
        "  else:\n",
        "    print(\"The salary of the employee {} is {} \".format(name2,dict[name2]))"
      ],
      "execution_count": null,
      "outputs": [
        {
          "output_type": "stream",
          "text": [
            "Enter the operation to be performed: query\n",
            "Enter the name: John\n",
            "The salary of the employee John is 14 \n"
          ],
          "name": "stdout"
        }
      ]
    },
    {
      "cell_type": "markdown",
      "metadata": {
        "id": "5CChClTMxiMH"
      },
      "source": [
        "**1. What is the difference between a set and a frozenset? Create any set and try to use frozenset(setname).**\n",
        "\n",
        "Ans The frozenset() returns an immutable frozenset object initialized with elements from the given iterable.\n",
        "\n",
        "Frozen set is just an immutable version of python set object while elements of a set can be modified at any time, elements of the frozen set remains the same after creation. "
      ]
    },
    {
      "cell_type": "code",
      "metadata": {
        "colab": {
          "base_uri": "https://localhost:8080/"
        },
        "id": "z70BcMUj2iUv",
        "outputId": "05728cad-8001-49dc-9f9f-c8fc2c388957"
      },
      "source": [
        "set= {1,3,5,7,10}\n",
        "f= frozenset(set)\n",
        "print(f'type of set : {type(set)}')\n",
        "print(f'type of set : {type(f)}')"
      ],
      "execution_count": null,
      "outputs": [
        {
          "output_type": "stream",
          "text": [
            "type of set : <class 'set'>\n",
            "type of set : <class 'frozenset'>\n"
          ],
          "name": "stdout"
        }
      ]
    },
    {
      "cell_type": "markdown",
      "metadata": {
        "id": "FqgjDA-L0ePm"
      },
      "source": [
        "**2. Find the elements in a given set that are not in another set**\n",
        "\n",
        "    **set1 = {10,20,30,40,50}**\n",
        "\n",
        "    **set2 = {40,50,60,70,80}**\n",
        " **Difference between set1 and set2 is {10,20,30}**"
      ]
    },
    {
      "cell_type": "code",
      "metadata": {
        "colab": {
          "base_uri": "https://localhost:8080/"
        },
        "id": "aNg2Po8W4Wa7",
        "outputId": "a982de47-98da-4cb9-d95e-54c323da74e7"
      },
      "source": [
        "set1 = {10,20,30,40,50}\n",
        "set2 = {40,50,60,70,80}\n",
        "print(\"Difference between set1 and set2 is\",set1-set2)"
      ],
      "execution_count": null,
      "outputs": [
        {
          "output_type": "stream",
          "text": [
            "Difference between set1 and set2 is {10, 20, 30}\n"
          ],
          "name": "stdout"
        }
      ]
    }
  ]
}